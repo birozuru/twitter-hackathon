{
 "cells": [
  {
   "cell_type": "code",
   "execution_count": 1,
   "metadata": {},
   "outputs": [],
   "source": [
    "import pandas as pd\n",
    "import pickle\n",
    "import re\n",
    "import numpy as np\n",
    "from tqdm import tqdm\n",
    "import nltk\n"
   ]
  },
  {
   "cell_type": "code",
   "execution_count": 2,
   "metadata": {},
   "outputs": [
    {
     "name": "stderr",
     "output_type": "stream",
     "text": [
      "[nltk_data] Downloading package stopwords to /home/marcel/nltk_data...\n",
      "[nltk_data]   Package stopwords is already up-to-date!\n"
     ]
    },
    {
     "data": {
      "text/plain": [
       "True"
      ]
     },
     "execution_count": 2,
     "metadata": {},
     "output_type": "execute_result"
    }
   ],
   "source": [
    "nltk.download('stopwords')\n"
   ]
  },
  {
   "cell_type": "code",
   "execution_count": 3,
   "metadata": {},
   "outputs": [],
   "source": [
    "from sklearn.tree import DecisionTreeRegressor\n",
    "from sklearn.ensemble import RandomForestRegressor, AdaBoostRegressor"
   ]
  },
  {
   "cell_type": "code",
   "execution_count": 4,
   "metadata": {},
   "outputs": [],
   "source": [
    "def preprocess_tweet(text):\n",
    "    text = re.sub('<[^>]*>', '', text)\n",
    "    emoticons = re.findall('(?::|;|=)(?:-)?(?:\\)|\\(|D|P)', text)\n",
    "    text = re.sub('[\\W]+', ' ', text.lower())\n",
    "    text = text+' '.join(emoticons).replace('-', '') \n",
    "    return text"
   ]
  },
  {
   "cell_type": "code",
   "execution_count": 6,
   "metadata": {},
   "outputs": [],
   "source": [
    "suicidal_tweets=pd.read_csv(\"suicidal_data.csv\")\n"
   ]
  },
  {
   "cell_type": "code",
   "execution_count": 7,
   "metadata": {},
   "outputs": [
    {
     "name": "stderr",
     "output_type": "stream",
     "text": [
      "100%|██████████| 9119/9119 [00:00<00:00, 31106.90it/s]\n"
     ]
    }
   ],
   "source": [
    "tqdm.pandas()\n",
    "suicidal_tweets['tweet'] = suicidal_tweets['tweet'].progress_apply(preprocess_tweet)"
   ]
  },
  {
   "cell_type": "code",
   "execution_count": 8,
   "metadata": {},
   "outputs": [],
   "source": [
    "from nltk.stem.porter import PorterStemmer\n",
    "porter = PorterStemmer()\n",
    "def tokenizer_porter(text):\n",
    "    return [porter.stem(word) for word in text.split()]"
   ]
  },
  {
   "cell_type": "code",
   "execution_count": 9,
   "metadata": {},
   "outputs": [],
   "source": [
    "from nltk.corpus import stopwords\n",
    "stop = stopwords.words('english')"
   ]
  },
  {
   "cell_type": "code",
   "execution_count": 11,
   "metadata": {},
   "outputs": [
    {
     "data": {
      "text/plain": [
       "['swimmer', 'like', 'swim', 'swim', 'lot']"
      ]
     },
     "execution_count": 11,
     "metadata": {},
     "output_type": "execute_result"
    }
   ],
   "source": [
    "[w for w in tokenizer_porter('a swimmer likes swimming and swims a lot') if w not in stop]"
   ]
  },
  {
   "cell_type": "code",
   "execution_count": 12,
   "metadata": {},
   "outputs": [],
   "source": [
    "def tokenizer(text):\n",
    "    text = re.sub('<[^>]*>', '', text)\n",
    "    emoticons = re.findall('(?::|;|=)(?:-)?(?:\\(|D|P)',text.lower())\n",
    "    text = re.sub('[\\W]+', ' ', text.lower())\n",
    "    text += ' '.join(emoticons).replace('-', '')\n",
    "    tokenized = [w for w in tokenizer_porter(text) if w not in stop]\n",
    "    return tokenized"
   ]
  },
  {
   "cell_type": "markdown",
   "metadata": {},
   "source": [
    "# Using the Hashing Vectorizer"
   ]
  },
  {
   "cell_type": "code",
   "execution_count": 13,
   "metadata": {},
   "outputs": [],
   "source": [
    "from sklearn.feature_extraction.text import HashingVectorizer\n",
    "vect = HashingVectorizer(decode_error='ignore', n_features=2**21, \n",
    "                         preprocessor=None,tokenizer=tokenizer)"
   ]
  },
  {
   "cell_type": "markdown",
   "metadata": {},
   "source": [
    "# Building the ml model"
   ]
  },
  {
   "cell_type": "code",
   "execution_count": 14,
   "metadata": {},
   "outputs": [],
   "source": [
    "from sklearn.linear_model import SGDClassifier\n",
    "clf = SGDClassifier(loss='log', random_state=1)"
   ]
  },
  {
   "cell_type": "code",
   "execution_count": 15,
   "metadata": {},
   "outputs": [],
   "source": [
    "X = suicidal_tweets[\"tweet\"].to_list()\n",
    "y = suicidal_tweets['label']"
   ]
  },
  {
   "cell_type": "markdown",
   "metadata": {},
   "source": [
    "# Training the model"
   ]
  },
  {
   "cell_type": "code",
   "execution_count": 16,
   "metadata": {},
   "outputs": [],
   "source": [
    "from sklearn.model_selection import train_test_split\n",
    "X_train,X_test,y_train,y_test = train_test_split(X, y, test_size=0.20, random_state=0)"
   ]
  },
  {
   "cell_type": "code",
   "execution_count": 17,
   "metadata": {},
   "outputs": [],
   "source": [
    "X_train = vect.transform(X_train)\n",
    "X_test = vect.transform(X_test)"
   ]
  },
  {
   "cell_type": "code",
   "execution_count": 18,
   "metadata": {},
   "outputs": [
    {
     "data": {
      "text/plain": [
       "SGDClassifier(loss='log', random_state=1)"
      ]
     },
     "execution_count": 18,
     "metadata": {},
     "output_type": "execute_result"
    }
   ],
   "source": [
    "classes = np.array([0, 1])\n",
    "clf.partial_fit(X_train, y_train,classes=classes)"
   ]
  },
  {
   "cell_type": "code",
   "execution_count": 19,
   "metadata": {},
   "outputs": [
    {
     "name": "stdout",
     "output_type": "stream",
     "text": [
      "Accuracy: 0.912\n"
     ]
    }
   ],
   "source": [
    "print('Accuracy: %.3f' % clf.score(X_test, y_test))"
   ]
  },
  {
   "cell_type": "markdown",
   "metadata": {},
   "source": [
    "# Testing"
   ]
  },
  {
   "cell_type": "code",
   "execution_count": 20,
   "metadata": {},
   "outputs": [],
   "source": [
    "label = {0:'negative', 1:'positive'}"
   ]
  },
  {
   "cell_type": "code",
   "execution_count": 21,
   "metadata": {},
   "outputs": [],
   "source": [
    "phrases = [\"suicide\",\"suicidal\", \"kill myself\", \"my suicide note\", \"my suicide letter\", \"end my life\", \"never wake up\", \"can't go on\",\" cannot go on\", \"not worth living\", \"ready to jump\", \"swleep forever\", \"want to die\", \"be dead\", \"better off without me\", \"better off dead\", \"don't want to being here\", \"tired of living\", \"die alone\", \"go to sleep forever\", \"wanna die\", \"wanna suicide\", \"commit suicide\", \"slit my wrist\",\"cut my wrist\", \"slash my wrist\", \"do not want to be here\", \"want it to be over\", \"want to be dead\", \"nothing to live for\", \"not worth living\",\"ready to die\", \"thoughts of suicide\", \"thoughts of killing myself\", \"why should i live\", \"take my own life\", \"depressed\"]"
   ]
  },
  {
   "cell_type": "code",
   "execution_count": 37,
   "metadata": {},
   "outputs": [],
   "source": [
    "from config import create_api\n"
   ]
  },
  {
   "cell_type": "code",
   "execution_count": 59,
   "metadata": {},
   "outputs": [
    {
     "name": "stdout",
     "output_type": "stream",
     "text": [
      "AmeerHa09250563 : \n",
      "Alison1Eve : 🇺🇸 🌍\n",
      "Pyro_mariner : Leeds init\n",
      "Rehmaan62546446 : \n",
      "nzvx__ : \n",
      "2playababyy : Hell\n",
      "Rfranz19 : florida\n",
      "spicyyy15 : \n",
      "Sani50547051 : \n",
      "sarahma50398302 : \n",
      "Ali98088843 : \n",
      "md96dawood : 🎈🎉سات #سمندر#پار🎉🎈\n",
      "IAmJerdog : Kansas, USA\n",
      "HaiderA39951009 : \n",
      "HanishaSai1 : \n",
      "Jakama_Snr : Kenya\n",
      "snorpion_ : she/her | 23 | 🇨🇵\n",
      "MarindaBender : \n",
      "nurulhsaf : Comrade Hafizul\n",
      "NiKhOoOLe : she/her • bi || 📍🇰🇪 \n",
      "moaningminnie58 : \n",
      "_tuthe : kiambu, Kenya\n",
      "LegionnaireNo1 : \n",
      "Druhin13 : Kolkata, India\n",
      "reenafndy : she/her 🏳️‍🌈🏳️‍🌈\n",
      "tanupandey4 : \n",
      "kevin_kiugi : United States\n",
      "listen2victims : Los Angeles, CA\n",
      "chat2u2 : Australia\n",
      "notyourfaves : Pengerang, Johor\n",
      "faeriecardan : cr: six of crows\n",
      "melissarxv : \n",
      "CaitlinHarvey22 : \n",
      "_katxe__ : \n",
      "evstokes96 : \n",
      "zchrollosbaby : \n",
      "mrsdeeznutsguy : deez nuts\n",
      "damosmith__ : Livingston, Scotland\n",
      "inkalacarter : eMalahleni, South Africa\n",
      "letatdemoi : \n",
      "moonxsh : 64 zoo lane\n",
      "JohnFcknStewart : \n",
      "OdBITO : Cabuyao, Calabarzon\n",
      "not_reiii : eroda\n",
      "Rajnees34468386 : UP, India\n",
      "Poon97130666 : New Delhi\n",
      "thoughtsat2_am : \n",
      "Candolime : \n",
      "SushantRathi12 : \n",
      "IndianExpress : India\n",
      "lovingAgainn : Constant dread \n",
      "F4keWh0remoans : Shitlist\n",
      "aai_g370 : She/her\n",
      "andrew_takeshi : \n",
      "AstridArtemis49 : Lee's Summit, MO\n",
      "mywholeass : katlin/pisces/she/her\n",
      "dimejiiii : Earth\n",
      "HunchoHxmmes : Johannesburg,South Africa\n",
      "SKlNNYFAT : \n",
      "jkvantejs : Circus🎪\n",
      "custardncookies : \n",
      "ethanbogardd : \n",
      "simranj65975163 : \n",
      "maia_oovel : A place\n",
      "Geminiseventh : Worldwide\n",
      "SabrinaMostaf11 : \n",
      "suicide__szn : hospital for souls\n",
      "iamdee289 : India\n",
      "runmo : belgium\n",
      "SanilaAli10 : Pakistan🇵🇰🇵🇰\n",
      "Vandana86263743 : United Kingdom\n",
      "Neeraja65673295 : \n",
      "lilaashna : Baroda,India\n",
      "appreciathor : \n",
      "abbotrabbot : they\n",
      "168cnu : \n",
      "hoyrhenzann : \n",
      "harpersbizaar : United States\n",
      "DeAyjaMommy : \n",
      "Riskynobii : France\n",
      "FaishaMaeTangog : Malalag, Davao del Sur\n",
      "maalieha : YAOI\n",
      "tosinoladigbolu : \n",
      "A_V_9402 : Los Angeles \n",
      "RedEyesBiDrago1 : \n",
      "Yyj6663 : Perak, Malaysia\n",
      "sohwnumx : 25+, not following twin. ND\n",
      "MaaattyB : Inverurie\n",
      "azu_kal : \n"
     ]
    },
    {
     "ename": "KeyboardInterrupt",
     "evalue": "",
     "output_type": "error",
     "traceback": [
      "\u001b[0;31m---------------------------------------------------------------------------\u001b[0m",
      "\u001b[0;31mKeyboardInterrupt\u001b[0m                         Traceback (most recent call last)",
      "\u001b[0;32m<ipython-input-59-e07c216463a1>\u001b[0m in \u001b[0;36m<module>\u001b[0;34m\u001b[0m\n\u001b[1;32m      2\u001b[0m \u001b[0;32mfor\u001b[0m \u001b[0mquery\u001b[0m \u001b[0;32min\u001b[0m \u001b[0mphrases\u001b[0m\u001b[0;34m:\u001b[0m\u001b[0;34m\u001b[0m\u001b[0;34m\u001b[0m\u001b[0m\n\u001b[1;32m      3\u001b[0m     \u001b[0mapi\u001b[0m \u001b[0;34m=\u001b[0m \u001b[0mcreate_api\u001b[0m\u001b[0;34m(\u001b[0m\u001b[0;34m)\u001b[0m\u001b[0;34m\u001b[0m\u001b[0;34m\u001b[0m\u001b[0m\n\u001b[0;32m----> 4\u001b[0;31m     \u001b[0mtweets\u001b[0m \u001b[0;34m=\u001b[0m \u001b[0mapi\u001b[0m\u001b[0;34m.\u001b[0m\u001b[0msearch\u001b[0m\u001b[0;34m(\u001b[0m\u001b[0mq\u001b[0m\u001b[0;34m=\u001b[0m\u001b[0mquery\u001b[0m \u001b[0;34m+\u001b[0m \u001b[0;34m\" --filter:retweets\"\u001b[0m\u001b[0;34m,\u001b[0m \u001b[0mlang\u001b[0m\u001b[0;34m=\u001b[0m\u001b[0;34m\"en\"\u001b[0m\u001b[0;34m,\u001b[0m \u001b[0mshow_user\u001b[0m\u001b[0;34m=\u001b[0m\u001b[0;32mTrue\u001b[0m\u001b[0;34m,\u001b[0m \u001b[0mresult_type\u001b[0m\u001b[0;34m=\u001b[0m\u001b[0;34m\"recent\"\u001b[0m\u001b[0;34m)\u001b[0m\u001b[0;34m\u001b[0m\u001b[0;34m\u001b[0m\u001b[0m\n\u001b[0m\u001b[1;32m      5\u001b[0m     \u001b[0;32mfor\u001b[0m \u001b[0mi\u001b[0m \u001b[0;32min\u001b[0m \u001b[0mtweets\u001b[0m\u001b[0;34m:\u001b[0m\u001b[0;34m\u001b[0m\u001b[0;34m\u001b[0m\u001b[0m\n\u001b[1;32m      6\u001b[0m         \u001b[0mprint\u001b[0m\u001b[0;34m(\u001b[0m\u001b[0mi\u001b[0m\u001b[0;34m.\u001b[0m\u001b[0muser\u001b[0m\u001b[0;34m.\u001b[0m\u001b[0mscreen_name\u001b[0m\u001b[0;34m,\u001b[0m \u001b[0;34m\":\"\u001b[0m \u001b[0;34m,\u001b[0m\u001b[0mi\u001b[0m\u001b[0;34m.\u001b[0m\u001b[0muser\u001b[0m\u001b[0;34m.\u001b[0m\u001b[0mlocation\u001b[0m\u001b[0;34m)\u001b[0m\u001b[0;34m\u001b[0m\u001b[0;34m\u001b[0m\u001b[0m\n",
      "\u001b[0;32m~/Documents/My Projects/twitter-hackathon/venv/lib/python3.8/site-packages/tweepy/binder.py\u001b[0m in \u001b[0;36m_call\u001b[0;34m(*args, **kwargs)\u001b[0m\n\u001b[1;32m    250\u001b[0m                 \u001b[0;32mreturn\u001b[0m \u001b[0mmethod\u001b[0m\u001b[0;34m\u001b[0m\u001b[0;34m\u001b[0m\u001b[0m\n\u001b[1;32m    251\u001b[0m             \u001b[0;32melse\u001b[0m\u001b[0;34m:\u001b[0m\u001b[0;34m\u001b[0m\u001b[0;34m\u001b[0m\u001b[0m\n\u001b[0;32m--> 252\u001b[0;31m                 \u001b[0;32mreturn\u001b[0m \u001b[0mmethod\u001b[0m\u001b[0;34m.\u001b[0m\u001b[0mexecute\u001b[0m\u001b[0;34m(\u001b[0m\u001b[0;34m)\u001b[0m\u001b[0;34m\u001b[0m\u001b[0;34m\u001b[0m\u001b[0m\n\u001b[0m\u001b[1;32m    253\u001b[0m         \u001b[0;32mfinally\u001b[0m\u001b[0;34m:\u001b[0m\u001b[0;34m\u001b[0m\u001b[0;34m\u001b[0m\u001b[0m\n\u001b[1;32m    254\u001b[0m             \u001b[0mmethod\u001b[0m\u001b[0;34m.\u001b[0m\u001b[0msession\u001b[0m\u001b[0;34m.\u001b[0m\u001b[0mclose\u001b[0m\u001b[0;34m(\u001b[0m\u001b[0;34m)\u001b[0m\u001b[0;34m\u001b[0m\u001b[0;34m\u001b[0m\u001b[0m\n",
      "\u001b[0;32m~/Documents/My Projects/twitter-hackathon/venv/lib/python3.8/site-packages/tweepy/binder.py\u001b[0m in \u001b[0;36mexecute\u001b[0;34m(self)\u001b[0m\n\u001b[1;32m    182\u001b[0m                 \u001b[0;31m# Execute request\u001b[0m\u001b[0;34m\u001b[0m\u001b[0;34m\u001b[0m\u001b[0;34m\u001b[0m\u001b[0m\n\u001b[1;32m    183\u001b[0m                 \u001b[0;32mtry\u001b[0m\u001b[0;34m:\u001b[0m\u001b[0;34m\u001b[0m\u001b[0;34m\u001b[0m\u001b[0m\n\u001b[0;32m--> 184\u001b[0;31m                     resp = self.session.request(self.method,\n\u001b[0m\u001b[1;32m    185\u001b[0m                                                 \u001b[0mfull_url\u001b[0m\u001b[0;34m,\u001b[0m\u001b[0;34m\u001b[0m\u001b[0;34m\u001b[0m\u001b[0m\n\u001b[1;32m    186\u001b[0m                                                 \u001b[0mdata\u001b[0m\u001b[0;34m=\u001b[0m\u001b[0mself\u001b[0m\u001b[0;34m.\u001b[0m\u001b[0mpost_data\u001b[0m\u001b[0;34m,\u001b[0m\u001b[0;34m\u001b[0m\u001b[0;34m\u001b[0m\u001b[0m\n",
      "\u001b[0;32m~/Documents/My Projects/twitter-hackathon/venv/lib/python3.8/site-packages/requests/sessions.py\u001b[0m in \u001b[0;36mrequest\u001b[0;34m(self, method, url, params, data, headers, cookies, files, auth, timeout, allow_redirects, proxies, hooks, stream, verify, cert, json)\u001b[0m\n\u001b[1;32m    540\u001b[0m         }\n\u001b[1;32m    541\u001b[0m         \u001b[0msend_kwargs\u001b[0m\u001b[0;34m.\u001b[0m\u001b[0mupdate\u001b[0m\u001b[0;34m(\u001b[0m\u001b[0msettings\u001b[0m\u001b[0;34m)\u001b[0m\u001b[0;34m\u001b[0m\u001b[0;34m\u001b[0m\u001b[0m\n\u001b[0;32m--> 542\u001b[0;31m         \u001b[0mresp\u001b[0m \u001b[0;34m=\u001b[0m \u001b[0mself\u001b[0m\u001b[0;34m.\u001b[0m\u001b[0msend\u001b[0m\u001b[0;34m(\u001b[0m\u001b[0mprep\u001b[0m\u001b[0;34m,\u001b[0m \u001b[0;34m**\u001b[0m\u001b[0msend_kwargs\u001b[0m\u001b[0;34m)\u001b[0m\u001b[0;34m\u001b[0m\u001b[0;34m\u001b[0m\u001b[0m\n\u001b[0m\u001b[1;32m    543\u001b[0m \u001b[0;34m\u001b[0m\u001b[0m\n\u001b[1;32m    544\u001b[0m         \u001b[0;32mreturn\u001b[0m \u001b[0mresp\u001b[0m\u001b[0;34m\u001b[0m\u001b[0;34m\u001b[0m\u001b[0m\n",
      "\u001b[0;32m~/Documents/My Projects/twitter-hackathon/venv/lib/python3.8/site-packages/requests/sessions.py\u001b[0m in \u001b[0;36msend\u001b[0;34m(self, request, **kwargs)\u001b[0m\n\u001b[1;32m    695\u001b[0m \u001b[0;34m\u001b[0m\u001b[0m\n\u001b[1;32m    696\u001b[0m         \u001b[0;32mif\u001b[0m \u001b[0;32mnot\u001b[0m \u001b[0mstream\u001b[0m\u001b[0;34m:\u001b[0m\u001b[0;34m\u001b[0m\u001b[0;34m\u001b[0m\u001b[0m\n\u001b[0;32m--> 697\u001b[0;31m             \u001b[0mr\u001b[0m\u001b[0;34m.\u001b[0m\u001b[0mcontent\u001b[0m\u001b[0;34m\u001b[0m\u001b[0;34m\u001b[0m\u001b[0m\n\u001b[0m\u001b[1;32m    698\u001b[0m \u001b[0;34m\u001b[0m\u001b[0m\n\u001b[1;32m    699\u001b[0m         \u001b[0;32mreturn\u001b[0m \u001b[0mr\u001b[0m\u001b[0;34m\u001b[0m\u001b[0;34m\u001b[0m\u001b[0m\n",
      "\u001b[0;32m~/Documents/My Projects/twitter-hackathon/venv/lib/python3.8/site-packages/requests/models.py\u001b[0m in \u001b[0;36mcontent\u001b[0;34m(self)\u001b[0m\n\u001b[1;32m    829\u001b[0m                 \u001b[0mself\u001b[0m\u001b[0;34m.\u001b[0m\u001b[0m_content\u001b[0m \u001b[0;34m=\u001b[0m \u001b[0;32mNone\u001b[0m\u001b[0;34m\u001b[0m\u001b[0;34m\u001b[0m\u001b[0m\n\u001b[1;32m    830\u001b[0m             \u001b[0;32melse\u001b[0m\u001b[0;34m:\u001b[0m\u001b[0;34m\u001b[0m\u001b[0;34m\u001b[0m\u001b[0m\n\u001b[0;32m--> 831\u001b[0;31m                 \u001b[0mself\u001b[0m\u001b[0;34m.\u001b[0m\u001b[0m_content\u001b[0m \u001b[0;34m=\u001b[0m \u001b[0;34mb''\u001b[0m\u001b[0;34m.\u001b[0m\u001b[0mjoin\u001b[0m\u001b[0;34m(\u001b[0m\u001b[0mself\u001b[0m\u001b[0;34m.\u001b[0m\u001b[0miter_content\u001b[0m\u001b[0;34m(\u001b[0m\u001b[0mCONTENT_CHUNK_SIZE\u001b[0m\u001b[0;34m)\u001b[0m\u001b[0;34m)\u001b[0m \u001b[0;32mor\u001b[0m \u001b[0;34mb''\u001b[0m\u001b[0;34m\u001b[0m\u001b[0;34m\u001b[0m\u001b[0m\n\u001b[0m\u001b[1;32m    832\u001b[0m \u001b[0;34m\u001b[0m\u001b[0m\n\u001b[1;32m    833\u001b[0m         \u001b[0mself\u001b[0m\u001b[0;34m.\u001b[0m\u001b[0m_content_consumed\u001b[0m \u001b[0;34m=\u001b[0m \u001b[0;32mTrue\u001b[0m\u001b[0;34m\u001b[0m\u001b[0;34m\u001b[0m\u001b[0m\n",
      "\u001b[0;32m~/Documents/My Projects/twitter-hackathon/venv/lib/python3.8/site-packages/requests/models.py\u001b[0m in \u001b[0;36mgenerate\u001b[0;34m()\u001b[0m\n\u001b[1;32m    751\u001b[0m             \u001b[0;32mif\u001b[0m \u001b[0mhasattr\u001b[0m\u001b[0;34m(\u001b[0m\u001b[0mself\u001b[0m\u001b[0;34m.\u001b[0m\u001b[0mraw\u001b[0m\u001b[0;34m,\u001b[0m \u001b[0;34m'stream'\u001b[0m\u001b[0;34m)\u001b[0m\u001b[0;34m:\u001b[0m\u001b[0;34m\u001b[0m\u001b[0;34m\u001b[0m\u001b[0m\n\u001b[1;32m    752\u001b[0m                 \u001b[0;32mtry\u001b[0m\u001b[0;34m:\u001b[0m\u001b[0;34m\u001b[0m\u001b[0;34m\u001b[0m\u001b[0m\n\u001b[0;32m--> 753\u001b[0;31m                     \u001b[0;32mfor\u001b[0m \u001b[0mchunk\u001b[0m \u001b[0;32min\u001b[0m \u001b[0mself\u001b[0m\u001b[0;34m.\u001b[0m\u001b[0mraw\u001b[0m\u001b[0;34m.\u001b[0m\u001b[0mstream\u001b[0m\u001b[0;34m(\u001b[0m\u001b[0mchunk_size\u001b[0m\u001b[0;34m,\u001b[0m \u001b[0mdecode_content\u001b[0m\u001b[0;34m=\u001b[0m\u001b[0;32mTrue\u001b[0m\u001b[0;34m)\u001b[0m\u001b[0;34m:\u001b[0m\u001b[0;34m\u001b[0m\u001b[0;34m\u001b[0m\u001b[0m\n\u001b[0m\u001b[1;32m    754\u001b[0m                         \u001b[0;32myield\u001b[0m \u001b[0mchunk\u001b[0m\u001b[0;34m\u001b[0m\u001b[0;34m\u001b[0m\u001b[0m\n\u001b[1;32m    755\u001b[0m                 \u001b[0;32mexcept\u001b[0m \u001b[0mProtocolError\u001b[0m \u001b[0;32mas\u001b[0m \u001b[0me\u001b[0m\u001b[0;34m:\u001b[0m\u001b[0;34m\u001b[0m\u001b[0;34m\u001b[0m\u001b[0m\n",
      "\u001b[0;32m~/Documents/My Projects/twitter-hackathon/venv/lib/python3.8/site-packages/urllib3/response.py\u001b[0m in \u001b[0;36mstream\u001b[0;34m(self, amt, decode_content)\u001b[0m\n\u001b[1;32m    562\u001b[0m         \u001b[0;32melse\u001b[0m\u001b[0;34m:\u001b[0m\u001b[0;34m\u001b[0m\u001b[0;34m\u001b[0m\u001b[0m\n\u001b[1;32m    563\u001b[0m             \u001b[0;32mwhile\u001b[0m \u001b[0;32mnot\u001b[0m \u001b[0mis_fp_closed\u001b[0m\u001b[0;34m(\u001b[0m\u001b[0mself\u001b[0m\u001b[0;34m.\u001b[0m\u001b[0m_fp\u001b[0m\u001b[0;34m)\u001b[0m\u001b[0;34m:\u001b[0m\u001b[0;34m\u001b[0m\u001b[0;34m\u001b[0m\u001b[0m\n\u001b[0;32m--> 564\u001b[0;31m                 \u001b[0mdata\u001b[0m \u001b[0;34m=\u001b[0m \u001b[0mself\u001b[0m\u001b[0;34m.\u001b[0m\u001b[0mread\u001b[0m\u001b[0;34m(\u001b[0m\u001b[0mamt\u001b[0m\u001b[0;34m=\u001b[0m\u001b[0mamt\u001b[0m\u001b[0;34m,\u001b[0m \u001b[0mdecode_content\u001b[0m\u001b[0;34m=\u001b[0m\u001b[0mdecode_content\u001b[0m\u001b[0;34m)\u001b[0m\u001b[0;34m\u001b[0m\u001b[0;34m\u001b[0m\u001b[0m\n\u001b[0m\u001b[1;32m    565\u001b[0m \u001b[0;34m\u001b[0m\u001b[0m\n\u001b[1;32m    566\u001b[0m                 \u001b[0;32mif\u001b[0m \u001b[0mdata\u001b[0m\u001b[0;34m:\u001b[0m\u001b[0;34m\u001b[0m\u001b[0;34m\u001b[0m\u001b[0m\n",
      "\u001b[0;32m~/Documents/My Projects/twitter-hackathon/venv/lib/python3.8/site-packages/urllib3/response.py\u001b[0m in \u001b[0;36mread\u001b[0;34m(self, amt, decode_content, cache_content)\u001b[0m\n\u001b[1;32m    505\u001b[0m             \u001b[0;32melse\u001b[0m\u001b[0;34m:\u001b[0m\u001b[0;34m\u001b[0m\u001b[0;34m\u001b[0m\u001b[0m\n\u001b[1;32m    506\u001b[0m                 \u001b[0mcache_content\u001b[0m \u001b[0;34m=\u001b[0m \u001b[0;32mFalse\u001b[0m\u001b[0;34m\u001b[0m\u001b[0;34m\u001b[0m\u001b[0m\n\u001b[0;32m--> 507\u001b[0;31m                 \u001b[0mdata\u001b[0m \u001b[0;34m=\u001b[0m \u001b[0mself\u001b[0m\u001b[0;34m.\u001b[0m\u001b[0m_fp\u001b[0m\u001b[0;34m.\u001b[0m\u001b[0mread\u001b[0m\u001b[0;34m(\u001b[0m\u001b[0mamt\u001b[0m\u001b[0;34m)\u001b[0m \u001b[0;32mif\u001b[0m \u001b[0;32mnot\u001b[0m \u001b[0mfp_closed\u001b[0m \u001b[0;32melse\u001b[0m \u001b[0;34mb\"\"\u001b[0m\u001b[0;34m\u001b[0m\u001b[0;34m\u001b[0m\u001b[0m\n\u001b[0m\u001b[1;32m    508\u001b[0m                 if (\n\u001b[1;32m    509\u001b[0m                     \u001b[0mamt\u001b[0m \u001b[0;34m!=\u001b[0m \u001b[0;36m0\u001b[0m \u001b[0;32mand\u001b[0m \u001b[0;32mnot\u001b[0m \u001b[0mdata\u001b[0m\u001b[0;34m\u001b[0m\u001b[0;34m\u001b[0m\u001b[0m\n",
      "\u001b[0;32m/usr/lib/python3.8/http/client.py\u001b[0m in \u001b[0;36mread\u001b[0;34m(self, amt)\u001b[0m\n\u001b[1;32m    456\u001b[0m             \u001b[0;31m# Amount is given, implement using readinto\u001b[0m\u001b[0;34m\u001b[0m\u001b[0;34m\u001b[0m\u001b[0;34m\u001b[0m\u001b[0m\n\u001b[1;32m    457\u001b[0m             \u001b[0mb\u001b[0m \u001b[0;34m=\u001b[0m \u001b[0mbytearray\u001b[0m\u001b[0;34m(\u001b[0m\u001b[0mamt\u001b[0m\u001b[0;34m)\u001b[0m\u001b[0;34m\u001b[0m\u001b[0;34m\u001b[0m\u001b[0m\n\u001b[0;32m--> 458\u001b[0;31m             \u001b[0mn\u001b[0m \u001b[0;34m=\u001b[0m \u001b[0mself\u001b[0m\u001b[0;34m.\u001b[0m\u001b[0mreadinto\u001b[0m\u001b[0;34m(\u001b[0m\u001b[0mb\u001b[0m\u001b[0;34m)\u001b[0m\u001b[0;34m\u001b[0m\u001b[0;34m\u001b[0m\u001b[0m\n\u001b[0m\u001b[1;32m    459\u001b[0m             \u001b[0;32mreturn\u001b[0m \u001b[0mmemoryview\u001b[0m\u001b[0;34m(\u001b[0m\u001b[0mb\u001b[0m\u001b[0;34m)\u001b[0m\u001b[0;34m[\u001b[0m\u001b[0;34m:\u001b[0m\u001b[0mn\u001b[0m\u001b[0;34m]\u001b[0m\u001b[0;34m.\u001b[0m\u001b[0mtobytes\u001b[0m\u001b[0;34m(\u001b[0m\u001b[0;34m)\u001b[0m\u001b[0;34m\u001b[0m\u001b[0;34m\u001b[0m\u001b[0m\n\u001b[1;32m    460\u001b[0m         \u001b[0;32melse\u001b[0m\u001b[0;34m:\u001b[0m\u001b[0;34m\u001b[0m\u001b[0;34m\u001b[0m\u001b[0m\n",
      "\u001b[0;32m/usr/lib/python3.8/http/client.py\u001b[0m in \u001b[0;36mreadinto\u001b[0;34m(self, b)\u001b[0m\n\u001b[1;32m    500\u001b[0m         \u001b[0;31m# connection, and the user is reading more bytes than will be provided\u001b[0m\u001b[0;34m\u001b[0m\u001b[0;34m\u001b[0m\u001b[0;34m\u001b[0m\u001b[0m\n\u001b[1;32m    501\u001b[0m         \u001b[0;31m# (for example, reading in 1k chunks)\u001b[0m\u001b[0;34m\u001b[0m\u001b[0;34m\u001b[0m\u001b[0;34m\u001b[0m\u001b[0m\n\u001b[0;32m--> 502\u001b[0;31m         \u001b[0mn\u001b[0m \u001b[0;34m=\u001b[0m \u001b[0mself\u001b[0m\u001b[0;34m.\u001b[0m\u001b[0mfp\u001b[0m\u001b[0;34m.\u001b[0m\u001b[0mreadinto\u001b[0m\u001b[0;34m(\u001b[0m\u001b[0mb\u001b[0m\u001b[0;34m)\u001b[0m\u001b[0;34m\u001b[0m\u001b[0;34m\u001b[0m\u001b[0m\n\u001b[0m\u001b[1;32m    503\u001b[0m         \u001b[0;32mif\u001b[0m \u001b[0;32mnot\u001b[0m \u001b[0mn\u001b[0m \u001b[0;32mand\u001b[0m \u001b[0mb\u001b[0m\u001b[0;34m:\u001b[0m\u001b[0;34m\u001b[0m\u001b[0;34m\u001b[0m\u001b[0m\n\u001b[1;32m    504\u001b[0m             \u001b[0;31m# Ideally, we would raise IncompleteRead if the content-length\u001b[0m\u001b[0;34m\u001b[0m\u001b[0;34m\u001b[0m\u001b[0;34m\u001b[0m\u001b[0m\n",
      "\u001b[0;32m/usr/lib/python3.8/socket.py\u001b[0m in \u001b[0;36mreadinto\u001b[0;34m(self, b)\u001b[0m\n\u001b[1;32m    667\u001b[0m         \u001b[0;32mwhile\u001b[0m \u001b[0;32mTrue\u001b[0m\u001b[0;34m:\u001b[0m\u001b[0;34m\u001b[0m\u001b[0;34m\u001b[0m\u001b[0m\n\u001b[1;32m    668\u001b[0m             \u001b[0;32mtry\u001b[0m\u001b[0;34m:\u001b[0m\u001b[0;34m\u001b[0m\u001b[0;34m\u001b[0m\u001b[0m\n\u001b[0;32m--> 669\u001b[0;31m                 \u001b[0;32mreturn\u001b[0m \u001b[0mself\u001b[0m\u001b[0;34m.\u001b[0m\u001b[0m_sock\u001b[0m\u001b[0;34m.\u001b[0m\u001b[0mrecv_into\u001b[0m\u001b[0;34m(\u001b[0m\u001b[0mb\u001b[0m\u001b[0;34m)\u001b[0m\u001b[0;34m\u001b[0m\u001b[0;34m\u001b[0m\u001b[0m\n\u001b[0m\u001b[1;32m    670\u001b[0m             \u001b[0;32mexcept\u001b[0m \u001b[0mtimeout\u001b[0m\u001b[0;34m:\u001b[0m\u001b[0;34m\u001b[0m\u001b[0;34m\u001b[0m\u001b[0m\n\u001b[1;32m    671\u001b[0m                 \u001b[0mself\u001b[0m\u001b[0;34m.\u001b[0m\u001b[0m_timeout_occurred\u001b[0m \u001b[0;34m=\u001b[0m \u001b[0;32mTrue\u001b[0m\u001b[0;34m\u001b[0m\u001b[0;34m\u001b[0m\u001b[0m\n",
      "\u001b[0;32m/usr/lib/python3.8/ssl.py\u001b[0m in \u001b[0;36mrecv_into\u001b[0;34m(self, buffer, nbytes, flags)\u001b[0m\n\u001b[1;32m   1239\u001b[0m                   \u001b[0;34m\"non-zero flags not allowed in calls to recv_into() on %s\"\u001b[0m \u001b[0;34m%\u001b[0m\u001b[0;34m\u001b[0m\u001b[0;34m\u001b[0m\u001b[0m\n\u001b[1;32m   1240\u001b[0m                   self.__class__)\n\u001b[0;32m-> 1241\u001b[0;31m             \u001b[0;32mreturn\u001b[0m \u001b[0mself\u001b[0m\u001b[0;34m.\u001b[0m\u001b[0mread\u001b[0m\u001b[0;34m(\u001b[0m\u001b[0mnbytes\u001b[0m\u001b[0;34m,\u001b[0m \u001b[0mbuffer\u001b[0m\u001b[0;34m)\u001b[0m\u001b[0;34m\u001b[0m\u001b[0;34m\u001b[0m\u001b[0m\n\u001b[0m\u001b[1;32m   1242\u001b[0m         \u001b[0;32melse\u001b[0m\u001b[0;34m:\u001b[0m\u001b[0;34m\u001b[0m\u001b[0;34m\u001b[0m\u001b[0m\n\u001b[1;32m   1243\u001b[0m             \u001b[0;32mreturn\u001b[0m \u001b[0msuper\u001b[0m\u001b[0;34m(\u001b[0m\u001b[0;34m)\u001b[0m\u001b[0;34m.\u001b[0m\u001b[0mrecv_into\u001b[0m\u001b[0;34m(\u001b[0m\u001b[0mbuffer\u001b[0m\u001b[0;34m,\u001b[0m \u001b[0mnbytes\u001b[0m\u001b[0;34m,\u001b[0m \u001b[0mflags\u001b[0m\u001b[0;34m)\u001b[0m\u001b[0;34m\u001b[0m\u001b[0;34m\u001b[0m\u001b[0m\n",
      "\u001b[0;32m/usr/lib/python3.8/ssl.py\u001b[0m in \u001b[0;36mread\u001b[0;34m(self, len, buffer)\u001b[0m\n\u001b[1;32m   1097\u001b[0m         \u001b[0;32mtry\u001b[0m\u001b[0;34m:\u001b[0m\u001b[0;34m\u001b[0m\u001b[0;34m\u001b[0m\u001b[0m\n\u001b[1;32m   1098\u001b[0m             \u001b[0;32mif\u001b[0m \u001b[0mbuffer\u001b[0m \u001b[0;32mis\u001b[0m \u001b[0;32mnot\u001b[0m \u001b[0;32mNone\u001b[0m\u001b[0;34m:\u001b[0m\u001b[0;34m\u001b[0m\u001b[0;34m\u001b[0m\u001b[0m\n\u001b[0;32m-> 1099\u001b[0;31m                 \u001b[0;32mreturn\u001b[0m \u001b[0mself\u001b[0m\u001b[0;34m.\u001b[0m\u001b[0m_sslobj\u001b[0m\u001b[0;34m.\u001b[0m\u001b[0mread\u001b[0m\u001b[0;34m(\u001b[0m\u001b[0mlen\u001b[0m\u001b[0;34m,\u001b[0m \u001b[0mbuffer\u001b[0m\u001b[0;34m)\u001b[0m\u001b[0;34m\u001b[0m\u001b[0;34m\u001b[0m\u001b[0m\n\u001b[0m\u001b[1;32m   1100\u001b[0m             \u001b[0;32melse\u001b[0m\u001b[0;34m:\u001b[0m\u001b[0;34m\u001b[0m\u001b[0;34m\u001b[0m\u001b[0m\n\u001b[1;32m   1101\u001b[0m                 \u001b[0;32mreturn\u001b[0m \u001b[0mself\u001b[0m\u001b[0;34m.\u001b[0m\u001b[0m_sslobj\u001b[0m\u001b[0;34m.\u001b[0m\u001b[0mread\u001b[0m\u001b[0;34m(\u001b[0m\u001b[0mlen\u001b[0m\u001b[0;34m)\u001b[0m\u001b[0;34m\u001b[0m\u001b[0;34m\u001b[0m\u001b[0m\n",
      "\u001b[0;31mKeyboardInterrupt\u001b[0m: "
     ]
    }
   ],
   "source": [
    "streamed_tweets = []\n",
    "for query in phrases:\n",
    "    api = create_api()\n",
    "    tweets = api.search(q=query + \" --filter:retweets\", lang=\"en\", show_user=True, result_type=\"recent\")\n",
    "    for i in tweets:\n",
    "        print(i.user.screen_name, \":\" ,i.user.location)\n",
    "        streamed_tweets.append({'tweet_id': i.id, 'tweet_text': i.text, 'user_name': i.user.screen_name, 'tweet_loc': i.user.location})\n",
    "        "
   ]
  },
  {
   "cell_type": "code",
   "execution_count": 60,
   "metadata": {},
   "outputs": [
    {
     "data": {
      "text/html": [
       "<div>\n",
       "<style scoped>\n",
       "    .dataframe tbody tr th:only-of-type {\n",
       "        vertical-align: middle;\n",
       "    }\n",
       "\n",
       "    .dataframe tbody tr th {\n",
       "        vertical-align: top;\n",
       "    }\n",
       "\n",
       "    .dataframe thead th {\n",
       "        text-align: right;\n",
       "    }\n",
       "</style>\n",
       "<table border=\"1\" class=\"dataframe\">\n",
       "  <thead>\n",
       "    <tr style=\"text-align: right;\">\n",
       "      <th></th>\n",
       "      <th>tweet_id</th>\n",
       "      <th>tweet_text</th>\n",
       "      <th>user_name</th>\n",
       "      <th>tweet_loc</th>\n",
       "    </tr>\n",
       "  </thead>\n",
       "  <tbody>\n",
       "    <tr>\n",
       "      <th>0</th>\n",
       "      <td>1330477149816549380</td>\n",
       "      <td>RT @soldierspeaks: An #Indian soldier of 39 RR...</td>\n",
       "      <td>AmeerHa09250563</td>\n",
       "      <td></td>\n",
       "    </tr>\n",
       "    <tr>\n",
       "      <th>1</th>\n",
       "      <td>1330477126043262976</td>\n",
       "      <td>RT @DIEBO37: New Chinese Weapon Can Launch Sui...</td>\n",
       "      <td>Alison1Eve</td>\n",
       "      <td>🇺🇸 🌍</td>\n",
       "    </tr>\n",
       "    <tr>\n",
       "      <th>2</th>\n",
       "      <td>1330477124193570818</td>\n",
       "      <td>RT @FredTJoseph: Kalief Browder died by suicid...</td>\n",
       "      <td>Pyro_mariner</td>\n",
       "      <td>Leeds init</td>\n",
       "    </tr>\n",
       "    <tr>\n",
       "      <th>3</th>\n",
       "      <td>1330477119701471234</td>\n",
       "      <td>RT @soldierspeaks: An #Indian soldier of 39 RR...</td>\n",
       "      <td>Rehmaan62546446</td>\n",
       "      <td></td>\n",
       "    </tr>\n",
       "    <tr>\n",
       "      <th>4</th>\n",
       "      <td>1330477114131238914</td>\n",
       "      <td>RT @acidwheep: TW // suicide attempt   \\nits b...</td>\n",
       "      <td>nzvx__</td>\n",
       "      <td></td>\n",
       "    </tr>\n",
       "    <tr>\n",
       "      <th>...</th>\n",
       "      <td>...</td>\n",
       "      <td>...</td>\n",
       "      <td>...</td>\n",
       "      <td>...</td>\n",
       "    </tr>\n",
       "    <tr>\n",
       "      <th>84</th>\n",
       "      <td>1330474598928953346</td>\n",
       "      <td>RT @AliceBridget5: I am lost.. Far, so far fro...</td>\n",
       "      <td>RedEyesBiDrago1</td>\n",
       "      <td></td>\n",
       "    </tr>\n",
       "    <tr>\n",
       "      <th>85</th>\n",
       "      <td>1330474475582861318</td>\n",
       "      <td>RT @jungkookie496: 💫 BTS 'BE' Album (Deluxe Ed...</td>\n",
       "      <td>Yyj6663</td>\n",
       "      <td>Perak, Malaysia</td>\n",
       "    </tr>\n",
       "    <tr>\n",
       "      <th>86</th>\n",
       "      <td>1330473898329182214</td>\n",
       "      <td>RT @nunubebe0618: 🐻 oh really? \\n👤 yes! \\n🐻 ah...</td>\n",
       "      <td>sohwnumx</td>\n",
       "      <td>25+, not following twin. ND</td>\n",
       "    </tr>\n",
       "    <tr>\n",
       "      <th>87</th>\n",
       "      <td>1330473884450222085</td>\n",
       "      <td>RT @DBurr_: How on earth do we end up with thi...</td>\n",
       "      <td>MaaattyB</td>\n",
       "      <td>Inverurie</td>\n",
       "    </tr>\n",
       "    <tr>\n",
       "      <th>88</th>\n",
       "      <td>1330473468429807617</td>\n",
       "      <td>RT @introverted_xle: yesterday's update made m...</td>\n",
       "      <td>azu_kal</td>\n",
       "      <td></td>\n",
       "    </tr>\n",
       "  </tbody>\n",
       "</table>\n",
       "<p>89 rows × 4 columns</p>\n",
       "</div>"
      ],
      "text/plain": [
       "               tweet_id                                         tweet_text  \\\n",
       "0   1330477149816549380  RT @soldierspeaks: An #Indian soldier of 39 RR...   \n",
       "1   1330477126043262976  RT @DIEBO37: New Chinese Weapon Can Launch Sui...   \n",
       "2   1330477124193570818  RT @FredTJoseph: Kalief Browder died by suicid...   \n",
       "3   1330477119701471234  RT @soldierspeaks: An #Indian soldier of 39 RR...   \n",
       "4   1330477114131238914  RT @acidwheep: TW // suicide attempt   \\nits b...   \n",
       "..                  ...                                                ...   \n",
       "84  1330474598928953346  RT @AliceBridget5: I am lost.. Far, so far fro...   \n",
       "85  1330474475582861318  RT @jungkookie496: 💫 BTS 'BE' Album (Deluxe Ed...   \n",
       "86  1330473898329182214  RT @nunubebe0618: 🐻 oh really? \\n👤 yes! \\n🐻 ah...   \n",
       "87  1330473884450222085  RT @DBurr_: How on earth do we end up with thi...   \n",
       "88  1330473468429807617  RT @introverted_xle: yesterday's update made m...   \n",
       "\n",
       "          user_name                    tweet_loc  \n",
       "0   AmeerHa09250563                               \n",
       "1        Alison1Eve                         🇺🇸 🌍  \n",
       "2      Pyro_mariner                   Leeds init  \n",
       "3   Rehmaan62546446                               \n",
       "4            nzvx__                               \n",
       "..              ...                          ...  \n",
       "84  RedEyesBiDrago1                               \n",
       "85          Yyj6663              Perak, Malaysia  \n",
       "86         sohwnumx  25+, not following twin. ND  \n",
       "87         MaaattyB                    Inverurie  \n",
       "88          azu_kal                               \n",
       "\n",
       "[89 rows x 4 columns]"
      ]
     },
     "execution_count": 60,
     "metadata": {},
     "output_type": "execute_result"
    }
   ],
   "source": [
    "streamed_tweet_df=pd.DataFrame.from_dict(streamed_tweets)\n",
    "streamed_tweet_df"
   ]
  },
  {
   "cell_type": "code",
   "execution_count": 61,
   "metadata": {},
   "outputs": [
    {
     "data": {
      "text/plain": [
       "Series([], Name: Probability, dtype: float64)"
      ]
     },
     "execution_count": 61,
     "metadata": {},
     "output_type": "execute_result"
    }
   ],
   "source": [
    "analysis= pd.DataFrame(columns={\"Prediction\",\"Probability\"})\n",
    "analysis[\"Prediction\"].astype(object)\n",
    "analysis[\"Probability\"].astype(float)"
   ]
  },
  {
   "cell_type": "code",
   "execution_count": 62,
   "metadata": {},
   "outputs": [
    {
     "name": "stdout",
     "output_type": "stream",
     "text": [
      "Prediction: negative   Probability: 60.07%\n",
      "Prediction: negative   Probability: 85.15%\n",
      "Prediction: negative   Probability: 56.28%\n",
      "Prediction: negative   Probability: 60.07%\n",
      "Prediction: positive   Probability: 83.34%\n",
      "Prediction: positive   Probability: 53.47%\n",
      "Prediction: negative   Probability: 56.28%\n",
      "Prediction: negative   Probability: 56.28%\n",
      "Prediction: negative   Probability: 60.07%\n",
      "Prediction: positive   Probability: 62.76%\n",
      "Prediction: negative   Probability: 60.07%\n",
      "Prediction: negative   Probability: 60.07%\n",
      "Prediction: negative   Probability: 56.28%\n",
      "Prediction: negative   Probability: 60.07%\n",
      "Prediction: negative   Probability: 92.65%\n",
      "Prediction: positive   Probability: 89.85%\n",
      "Prediction: negative   Probability: 63.14%\n",
      "Prediction: negative   Probability: 94.75%\n",
      "Prediction: negative   Probability: 59.24%\n",
      "Prediction: positive   Probability: 89.85%\n",
      "Prediction: negative   Probability: 53.60%\n",
      "Prediction: positive   Probability: 89.85%\n",
      "Prediction: positive   Probability: 89.85%\n",
      "Prediction: negative   Probability: 93.63%\n",
      "Prediction: positive   Probability: 82.55%\n",
      "Prediction: negative   Probability: 93.63%\n",
      "Prediction: positive   Probability: 89.85%\n",
      "Prediction: negative   Probability: 85.12%\n",
      "Prediction: negative   Probability: 53.60%\n",
      "Prediction: negative   Probability: 94.67%\n",
      "Prediction: negative   Probability: 94.67%\n",
      "Prediction: negative   Probability: 94.67%\n",
      "Prediction: negative   Probability: 94.67%\n",
      "Prediction: negative   Probability: 94.67%\n",
      "Prediction: negative   Probability: 94.67%\n",
      "Prediction: negative   Probability: 94.67%\n",
      "Prediction: negative   Probability: 94.67%\n",
      "Prediction: negative   Probability: 94.67%\n",
      "Prediction: negative   Probability: 94.67%\n",
      "Prediction: negative   Probability: 94.67%\n",
      "Prediction: negative   Probability: 94.67%\n",
      "Prediction: negative   Probability: 94.67%\n",
      "Prediction: negative   Probability: 94.67%\n",
      "Prediction: negative   Probability: 94.67%\n",
      "Prediction: negative   Probability: 85.83%\n",
      "Prediction: negative   Probability: 85.83%\n",
      "Prediction: positive   Probability: 55.20%\n",
      "Prediction: negative   Probability: 85.83%\n",
      "Prediction: negative   Probability: 85.83%\n",
      "Prediction: negative   Probability: 85.83%\n",
      "Prediction: negative   Probability: 64.57%\n",
      "Prediction: positive   Probability: 55.34%\n",
      "Prediction: negative   Probability: 64.57%\n",
      "Prediction: positive   Probability: 60.27%\n",
      "Prediction: negative   Probability: 64.57%\n",
      "Prediction: negative   Probability: 64.57%\n",
      "Prediction: positive   Probability: 92.02%\n",
      "Prediction: positive   Probability: 52.92%\n",
      "Prediction: positive   Probability: 69.92%\n",
      "Prediction: positive   Probability: 72.52%\n",
      "Prediction: positive   Probability: 57.05%\n",
      "Prediction: positive   Probability: 57.05%\n",
      "Prediction: negative   Probability: 62.31%\n",
      "Prediction: negative   Probability: 55.74%\n",
      "Prediction: negative   Probability: 72.03%\n",
      "Prediction: negative   Probability: 62.31%\n",
      "Prediction: negative   Probability: 97.69%\n",
      "Prediction: negative   Probability: 62.31%\n",
      "Prediction: positive   Probability: 88.91%\n",
      "Prediction: negative   Probability: 62.31%\n",
      "Prediction: negative   Probability: 62.31%\n",
      "Prediction: negative   Probability: 62.31%\n",
      "Prediction: negative   Probability: 62.31%\n",
      "Prediction: positive   Probability: 94.46%\n",
      "Prediction: positive   Probability: 68.76%\n",
      "Prediction: negative   Probability: 62.51%\n",
      "Prediction: negative   Probability: 86.27%\n",
      "Prediction: positive   Probability: 53.59%\n",
      "Prediction: positive   Probability: 52.01%\n",
      "Prediction: negative   Probability: 88.71%\n",
      "Prediction: negative   Probability: 62.87%\n",
      "Prediction: negative   Probability: 93.00%\n",
      "Prediction: positive   Probability: 93.86%\n",
      "Prediction: positive   Probability: 93.86%\n",
      "Prediction: negative   Probability: 88.71%\n",
      "Prediction: negative   Probability: 92.29%\n",
      "Prediction: negative   Probability: 62.51%\n",
      "Prediction: positive   Probability: 52.28%\n",
      "Prediction: negative   Probability: 93.00%\n"
     ]
    }
   ],
   "source": [
    "for row in range(0,len(streamed_tweet_df)):\n",
    "    example=[streamed_tweet_df.iloc[row,1]]\n",
    "    X = vect.transform(example)\n",
    "    print('Prediction: %s   Probability: %.2f%%'\n",
    "    %(label[clf.predict(X)[0]],np.max(clf.predict_proba(X))*100))\n",
    "    analysis=analysis.append({'Prediction': label[clf.predict(X)[0]],\n",
    "                                             'Probability': np.max(clf.predict_proba(X))*100},\n",
    "                                            ignore_index=True)"
   ]
  },
  {
   "cell_type": "code",
   "execution_count": 63,
   "metadata": {},
   "outputs": [
    {
     "data": {
      "text/html": [
       "<div>\n",
       "<style scoped>\n",
       "    .dataframe tbody tr th:only-of-type {\n",
       "        vertical-align: middle;\n",
       "    }\n",
       "\n",
       "    .dataframe tbody tr th {\n",
       "        vertical-align: top;\n",
       "    }\n",
       "\n",
       "    .dataframe thead th {\n",
       "        text-align: right;\n",
       "    }\n",
       "</style>\n",
       "<table border=\"1\" class=\"dataframe\">\n",
       "  <thead>\n",
       "    <tr style=\"text-align: right;\">\n",
       "      <th></th>\n",
       "      <th>tweet_id</th>\n",
       "      <th>tweet_text</th>\n",
       "      <th>user_name</th>\n",
       "      <th>tweet_loc</th>\n",
       "      <th>Prediction</th>\n",
       "      <th>Probability</th>\n",
       "    </tr>\n",
       "  </thead>\n",
       "  <tbody>\n",
       "    <tr>\n",
       "      <th>0</th>\n",
       "      <td>1330477149816549380</td>\n",
       "      <td>RT @soldierspeaks: An #Indian soldier of 39 RR...</td>\n",
       "      <td>AmeerHa09250563</td>\n",
       "      <td></td>\n",
       "      <td>negative</td>\n",
       "      <td>60.070946</td>\n",
       "    </tr>\n",
       "    <tr>\n",
       "      <th>1</th>\n",
       "      <td>1330477126043262976</td>\n",
       "      <td>RT @DIEBO37: New Chinese Weapon Can Launch Sui...</td>\n",
       "      <td>Alison1Eve</td>\n",
       "      <td>🇺🇸 🌍</td>\n",
       "      <td>negative</td>\n",
       "      <td>85.146959</td>\n",
       "    </tr>\n",
       "    <tr>\n",
       "      <th>2</th>\n",
       "      <td>1330477124193570818</td>\n",
       "      <td>RT @FredTJoseph: Kalief Browder died by suicid...</td>\n",
       "      <td>Pyro_mariner</td>\n",
       "      <td>Leeds init</td>\n",
       "      <td>negative</td>\n",
       "      <td>56.283844</td>\n",
       "    </tr>\n",
       "    <tr>\n",
       "      <th>3</th>\n",
       "      <td>1330477119701471234</td>\n",
       "      <td>RT @soldierspeaks: An #Indian soldier of 39 RR...</td>\n",
       "      <td>Rehmaan62546446</td>\n",
       "      <td></td>\n",
       "      <td>negative</td>\n",
       "      <td>60.070946</td>\n",
       "    </tr>\n",
       "    <tr>\n",
       "      <th>4</th>\n",
       "      <td>1330477114131238914</td>\n",
       "      <td>RT @acidwheep: TW // suicide attempt   \\nits b...</td>\n",
       "      <td>nzvx__</td>\n",
       "      <td></td>\n",
       "      <td>positive</td>\n",
       "      <td>83.340849</td>\n",
       "    </tr>\n",
       "    <tr>\n",
       "      <th>...</th>\n",
       "      <td>...</td>\n",
       "      <td>...</td>\n",
       "      <td>...</td>\n",
       "      <td>...</td>\n",
       "      <td>...</td>\n",
       "      <td>...</td>\n",
       "    </tr>\n",
       "    <tr>\n",
       "      <th>84</th>\n",
       "      <td>1330474598928953346</td>\n",
       "      <td>RT @AliceBridget5: I am lost.. Far, so far fro...</td>\n",
       "      <td>RedEyesBiDrago1</td>\n",
       "      <td></td>\n",
       "      <td>negative</td>\n",
       "      <td>88.711561</td>\n",
       "    </tr>\n",
       "    <tr>\n",
       "      <th>85</th>\n",
       "      <td>1330474475582861318</td>\n",
       "      <td>RT @jungkookie496: 💫 BTS 'BE' Album (Deluxe Ed...</td>\n",
       "      <td>Yyj6663</td>\n",
       "      <td>Perak, Malaysia</td>\n",
       "      <td>negative</td>\n",
       "      <td>92.288782</td>\n",
       "    </tr>\n",
       "    <tr>\n",
       "      <th>86</th>\n",
       "      <td>1330473898329182214</td>\n",
       "      <td>RT @nunubebe0618: 🐻 oh really? \\n👤 yes! \\n🐻 ah...</td>\n",
       "      <td>sohwnumx</td>\n",
       "      <td>25+, not following twin. ND</td>\n",
       "      <td>negative</td>\n",
       "      <td>62.513943</td>\n",
       "    </tr>\n",
       "    <tr>\n",
       "      <th>87</th>\n",
       "      <td>1330473884450222085</td>\n",
       "      <td>RT @DBurr_: How on earth do we end up with thi...</td>\n",
       "      <td>MaaattyB</td>\n",
       "      <td>Inverurie</td>\n",
       "      <td>positive</td>\n",
       "      <td>52.275340</td>\n",
       "    </tr>\n",
       "    <tr>\n",
       "      <th>88</th>\n",
       "      <td>1330473468429807617</td>\n",
       "      <td>RT @introverted_xle: yesterday's update made m...</td>\n",
       "      <td>azu_kal</td>\n",
       "      <td></td>\n",
       "      <td>negative</td>\n",
       "      <td>93.001485</td>\n",
       "    </tr>\n",
       "  </tbody>\n",
       "</table>\n",
       "<p>89 rows × 6 columns</p>\n",
       "</div>"
      ],
      "text/plain": [
       "               tweet_id                                         tweet_text  \\\n",
       "0   1330477149816549380  RT @soldierspeaks: An #Indian soldier of 39 RR...   \n",
       "1   1330477126043262976  RT @DIEBO37: New Chinese Weapon Can Launch Sui...   \n",
       "2   1330477124193570818  RT @FredTJoseph: Kalief Browder died by suicid...   \n",
       "3   1330477119701471234  RT @soldierspeaks: An #Indian soldier of 39 RR...   \n",
       "4   1330477114131238914  RT @acidwheep: TW // suicide attempt   \\nits b...   \n",
       "..                  ...                                                ...   \n",
       "84  1330474598928953346  RT @AliceBridget5: I am lost.. Far, so far fro...   \n",
       "85  1330474475582861318  RT @jungkookie496: 💫 BTS 'BE' Album (Deluxe Ed...   \n",
       "86  1330473898329182214  RT @nunubebe0618: 🐻 oh really? \\n👤 yes! \\n🐻 ah...   \n",
       "87  1330473884450222085  RT @DBurr_: How on earth do we end up with thi...   \n",
       "88  1330473468429807617  RT @introverted_xle: yesterday's update made m...   \n",
       "\n",
       "          user_name                    tweet_loc Prediction  Probability  \n",
       "0   AmeerHa09250563                                negative    60.070946  \n",
       "1        Alison1Eve                         🇺🇸 🌍   negative    85.146959  \n",
       "2      Pyro_mariner                   Leeds init   negative    56.283844  \n",
       "3   Rehmaan62546446                                negative    60.070946  \n",
       "4            nzvx__                                positive    83.340849  \n",
       "..              ...                          ...        ...          ...  \n",
       "84  RedEyesBiDrago1                                negative    88.711561  \n",
       "85          Yyj6663              Perak, Malaysia   negative    92.288782  \n",
       "86         sohwnumx  25+, not following twin. ND   negative    62.513943  \n",
       "87         MaaattyB                    Inverurie   positive    52.275340  \n",
       "88          azu_kal                                negative    93.001485  \n",
       "\n",
       "[89 rows x 6 columns]"
      ]
     },
     "execution_count": 63,
     "metadata": {},
     "output_type": "execute_result"
    }
   ],
   "source": [
    "merge=streamed_tweet_df.merge(analysis, how=\"inner\", left_index=True, right_index=True)\n",
    "merge"
   ]
  },
  {
   "cell_type": "code",
   "execution_count": 64,
   "metadata": {},
   "outputs": [
    {
     "data": {
      "text/html": [
       "<div>\n",
       "<style scoped>\n",
       "    .dataframe tbody tr th:only-of-type {\n",
       "        vertical-align: middle;\n",
       "    }\n",
       "\n",
       "    .dataframe tbody tr th {\n",
       "        vertical-align: top;\n",
       "    }\n",
       "\n",
       "    .dataframe thead th {\n",
       "        text-align: right;\n",
       "    }\n",
       "</style>\n",
       "<table border=\"1\" class=\"dataframe\">\n",
       "  <thead>\n",
       "    <tr style=\"text-align: right;\">\n",
       "      <th></th>\n",
       "      <th>tweet_id</th>\n",
       "      <th>tweet_text</th>\n",
       "      <th>user_name</th>\n",
       "      <th>tweet_loc</th>\n",
       "      <th>Prediction</th>\n",
       "      <th>Probability</th>\n",
       "      <th>mask</th>\n",
       "    </tr>\n",
       "  </thead>\n",
       "  <tbody>\n",
       "    <tr>\n",
       "      <th>0</th>\n",
       "      <td>1330477149816549380</td>\n",
       "      <td>RT @soldierspeaks: An #Indian soldier of 39 RR...</td>\n",
       "      <td>AmeerHa09250563</td>\n",
       "      <td></td>\n",
       "      <td>negative</td>\n",
       "      <td>60.070946</td>\n",
       "      <td>no problem</td>\n",
       "    </tr>\n",
       "    <tr>\n",
       "      <th>1</th>\n",
       "      <td>1330477126043262976</td>\n",
       "      <td>RT @DIEBO37: New Chinese Weapon Can Launch Sui...</td>\n",
       "      <td>Alison1Eve</td>\n",
       "      <td>🇺🇸 🌍</td>\n",
       "      <td>negative</td>\n",
       "      <td>85.146959</td>\n",
       "      <td>no problem</td>\n",
       "    </tr>\n",
       "    <tr>\n",
       "      <th>2</th>\n",
       "      <td>1330477124193570818</td>\n",
       "      <td>RT @FredTJoseph: Kalief Browder died by suicid...</td>\n",
       "      <td>Pyro_mariner</td>\n",
       "      <td>Leeds init</td>\n",
       "      <td>negative</td>\n",
       "      <td>56.283844</td>\n",
       "      <td>no problem</td>\n",
       "    </tr>\n",
       "    <tr>\n",
       "      <th>3</th>\n",
       "      <td>1330477119701471234</td>\n",
       "      <td>RT @soldierspeaks: An #Indian soldier of 39 RR...</td>\n",
       "      <td>Rehmaan62546446</td>\n",
       "      <td></td>\n",
       "      <td>negative</td>\n",
       "      <td>60.070946</td>\n",
       "      <td>no problem</td>\n",
       "    </tr>\n",
       "    <tr>\n",
       "      <th>4</th>\n",
       "      <td>1330477114131238914</td>\n",
       "      <td>RT @acidwheep: TW // suicide attempt   \\nits b...</td>\n",
       "      <td>nzvx__</td>\n",
       "      <td></td>\n",
       "      <td>positive</td>\n",
       "      <td>83.340849</td>\n",
       "      <td>Flagged</td>\n",
       "    </tr>\n",
       "    <tr>\n",
       "      <th>...</th>\n",
       "      <td>...</td>\n",
       "      <td>...</td>\n",
       "      <td>...</td>\n",
       "      <td>...</td>\n",
       "      <td>...</td>\n",
       "      <td>...</td>\n",
       "      <td>...</td>\n",
       "    </tr>\n",
       "    <tr>\n",
       "      <th>84</th>\n",
       "      <td>1330474598928953346</td>\n",
       "      <td>RT @AliceBridget5: I am lost.. Far, so far fro...</td>\n",
       "      <td>RedEyesBiDrago1</td>\n",
       "      <td></td>\n",
       "      <td>negative</td>\n",
       "      <td>88.711561</td>\n",
       "      <td>no problem</td>\n",
       "    </tr>\n",
       "    <tr>\n",
       "      <th>85</th>\n",
       "      <td>1330474475582861318</td>\n",
       "      <td>RT @jungkookie496: 💫 BTS 'BE' Album (Deluxe Ed...</td>\n",
       "      <td>Yyj6663</td>\n",
       "      <td>Perak, Malaysia</td>\n",
       "      <td>negative</td>\n",
       "      <td>92.288782</td>\n",
       "      <td>no problem</td>\n",
       "    </tr>\n",
       "    <tr>\n",
       "      <th>86</th>\n",
       "      <td>1330473898329182214</td>\n",
       "      <td>RT @nunubebe0618: 🐻 oh really? \\n👤 yes! \\n🐻 ah...</td>\n",
       "      <td>sohwnumx</td>\n",
       "      <td>25+, not following twin. ND</td>\n",
       "      <td>negative</td>\n",
       "      <td>62.513943</td>\n",
       "      <td>no problem</td>\n",
       "    </tr>\n",
       "    <tr>\n",
       "      <th>87</th>\n",
       "      <td>1330473884450222085</td>\n",
       "      <td>RT @DBurr_: How on earth do we end up with thi...</td>\n",
       "      <td>MaaattyB</td>\n",
       "      <td>Inverurie</td>\n",
       "      <td>positive</td>\n",
       "      <td>52.275340</td>\n",
       "      <td>no problem</td>\n",
       "    </tr>\n",
       "    <tr>\n",
       "      <th>88</th>\n",
       "      <td>1330473468429807617</td>\n",
       "      <td>RT @introverted_xle: yesterday's update made m...</td>\n",
       "      <td>azu_kal</td>\n",
       "      <td></td>\n",
       "      <td>negative</td>\n",
       "      <td>93.001485</td>\n",
       "      <td>no problem</td>\n",
       "    </tr>\n",
       "  </tbody>\n",
       "</table>\n",
       "<p>89 rows × 7 columns</p>\n",
       "</div>"
      ],
      "text/plain": [
       "               tweet_id                                         tweet_text  \\\n",
       "0   1330477149816549380  RT @soldierspeaks: An #Indian soldier of 39 RR...   \n",
       "1   1330477126043262976  RT @DIEBO37: New Chinese Weapon Can Launch Sui...   \n",
       "2   1330477124193570818  RT @FredTJoseph: Kalief Browder died by suicid...   \n",
       "3   1330477119701471234  RT @soldierspeaks: An #Indian soldier of 39 RR...   \n",
       "4   1330477114131238914  RT @acidwheep: TW // suicide attempt   \\nits b...   \n",
       "..                  ...                                                ...   \n",
       "84  1330474598928953346  RT @AliceBridget5: I am lost.. Far, so far fro...   \n",
       "85  1330474475582861318  RT @jungkookie496: 💫 BTS 'BE' Album (Deluxe Ed...   \n",
       "86  1330473898329182214  RT @nunubebe0618: 🐻 oh really? \\n👤 yes! \\n🐻 ah...   \n",
       "87  1330473884450222085  RT @DBurr_: How on earth do we end up with thi...   \n",
       "88  1330473468429807617  RT @introverted_xle: yesterday's update made m...   \n",
       "\n",
       "          user_name                    tweet_loc Prediction  Probability  \\\n",
       "0   AmeerHa09250563                                negative    60.070946   \n",
       "1        Alison1Eve                         🇺🇸 🌍   negative    85.146959   \n",
       "2      Pyro_mariner                   Leeds init   negative    56.283844   \n",
       "3   Rehmaan62546446                                negative    60.070946   \n",
       "4            nzvx__                                positive    83.340849   \n",
       "..              ...                          ...        ...          ...   \n",
       "84  RedEyesBiDrago1                                negative    88.711561   \n",
       "85          Yyj6663              Perak, Malaysia   negative    92.288782   \n",
       "86         sohwnumx  25+, not following twin. ND   negative    62.513943   \n",
       "87         MaaattyB                    Inverurie   positive    52.275340   \n",
       "88          azu_kal                                negative    93.001485   \n",
       "\n",
       "          mask  \n",
       "0   no problem  \n",
       "1   no problem  \n",
       "2   no problem  \n",
       "3   no problem  \n",
       "4      Flagged  \n",
       "..         ...  \n",
       "84  no problem  \n",
       "85  no problem  \n",
       "86  no problem  \n",
       "87  no problem  \n",
       "88  no problem  \n",
       "\n",
       "[89 rows x 7 columns]"
      ]
     },
     "execution_count": 64,
     "metadata": {},
     "output_type": "execute_result"
    }
   ],
   "source": [
    "mask = (merge['Probability'].ge(80)) & (merge['Prediction']=='positive')\n",
    "merge['mask'] = np.where(mask,'Flagged', 'no problem')\n",
    "merge"
   ]
  },
  {
   "cell_type": "code",
   "execution_count": 65,
   "metadata": {},
   "outputs": [
    {
     "name": "stdout",
     "output_type": "stream",
     "text": [
      "4 nzvx__ RT @acidwheep: TW // suicide attempt   \n",
      "its been a year since my first suicide attempt and a month since my last attempt, the fact that i’m… \n",
      "15 Jakama_Snr RT @nahashon87: I've seen many people depressed and almost suicidal because their parents demand too much from them. Please, usikie uchungu… Kenya\n",
      "19 NiKhOoOLe RT @nahashon87: I've seen many people depressed and almost suicidal because their parents demand too much from them. Please, usikie uchungu… she/her • bi || 📍🇰🇪 \n",
      "21 _tuthe RT @nahashon87: I've seen many people depressed and almost suicidal because their parents demand too much from them. Please, usikie uchungu… kiambu, Kenya\n",
      "22 LegionnaireNo1 RT @nahashon87: I've seen many people depressed and almost suicidal because their parents demand too much from them. Please, usikie uchungu… \n",
      "24 reenafndy RT @sapiqmalik: tw// Suicide &amp; suicidal thoughts\n",
      "\n",
      "Please don't mock his choice that he took his own life here.\n",
      "\n",
      "To those who doesn't unders… she/her 🏳️‍🌈🏳️‍🌈\n",
      "26 kevin_kiugi RT @nahashon87: I've seen many people depressed and almost suicidal because their parents demand too much from them. Please, usikie uchungu… United States\n",
      "56 dimejiiii RT @adetuutuu: This time last year, I had a bottle of poison and suicide note lying on my bed.  I had talked to my mom the night before (to… Earth\n",
      "68 runmo RT @iam_1in4: We need to start talking. Not just because someone famous dies by suicide, but because one day that could be our friend, moth… belgium\n",
      "73 appreciathor RT @mahaanatudu: Someone From Software committed Suicide in January, I Felt very Sad. 🥺\n",
      " I wrote a Letter to my Friend about Depression., a… \n",
      "82 tosinoladigbolu RT @jordashx: On this day in 2019 I tried to commit suicide and end my life. I feel so stunted to think today would of been the 1st anniver… \n",
      "83 A_V_9402 RT @jordashx: On this day in 2019 I tried to commit suicide and end my life. I feel so stunted to think today would of been the 1st anniver… Los Angeles \n"
     ]
    }
   ],
   "source": [
    "for row in range(len(merge)):\n",
    "        if merge['mask'][row]=='Flagged':\n",
    "            print(row, merge['user_name'][row], merge['tweet_text'][row], merge['tweet_loc'][row])"
   ]
  },
  {
   "cell_type": "code",
   "execution_count": 74,
   "metadata": {},
   "outputs": [],
   "source": [
    "def send():\n",
    "    user_list = {}\n",
    "    for row in range(len(merge)):\n",
    "        if merge['mask'][row]=='Flagged':\n",
    "            user_list[merge['user_name'][row]] = merge['tweet_text'][row]\n",
    "    return(user_list)"
   ]
  },
  {
   "cell_type": "code",
   "execution_count": 75,
   "metadata": {},
   "outputs": [
    {
     "data": {
      "text/plain": [
       "{'nzvx__': 'RT @acidwheep: TW // suicide attempt   \\nits been a year since my first suicide attempt and a month since my last attempt, the fact that i’m…',\n",
       " 'Jakama_Snr': \"RT @nahashon87: I've seen many people depressed and almost suicidal because their parents demand too much from them. Please, usikie uchungu…\",\n",
       " 'NiKhOoOLe': \"RT @nahashon87: I've seen many people depressed and almost suicidal because their parents demand too much from them. Please, usikie uchungu…\",\n",
       " '_tuthe': \"RT @nahashon87: I've seen many people depressed and almost suicidal because their parents demand too much from them. Please, usikie uchungu…\",\n",
       " 'LegionnaireNo1': \"RT @nahashon87: I've seen many people depressed and almost suicidal because their parents demand too much from them. Please, usikie uchungu…\",\n",
       " 'reenafndy': \"RT @sapiqmalik: tw// Suicide &amp; suicidal thoughts\\n\\nPlease don't mock his choice that he took his own life here.\\n\\nTo those who doesn't unders…\",\n",
       " 'kevin_kiugi': \"RT @nahashon87: I've seen many people depressed and almost suicidal because their parents demand too much from them. Please, usikie uchungu…\",\n",
       " 'dimejiiii': 'RT @adetuutuu: This time last year, I had a bottle of poison and suicide note lying on my bed.  I had talked to my mom the night before (to…',\n",
       " 'runmo': 'RT @iam_1in4: We need to start talking. Not just because someone famous dies by suicide, but because one day that could be our friend, moth…',\n",
       " 'appreciathor': 'RT @mahaanatudu: Someone From Software committed Suicide in January, I Felt very Sad. 🥺\\n I wrote a Letter to my Friend about Depression., a…',\n",
       " 'tosinoladigbolu': 'RT @jordashx: On this day in 2019 I tried to commit suicide and end my life. I feel so stunted to think today would of been the 1st anniver…',\n",
       " 'A_V_9402': 'RT @jordashx: On this day in 2019 I tried to commit suicide and end my life. I feel so stunted to think today would of been the 1st anniver…'}"
      ]
     },
     "execution_count": 75,
     "metadata": {},
     "output_type": "execute_result"
    }
   ],
   "source": [
    "send()"
   ]
  }
 ],
 "metadata": {
  "kernelspec": {
   "display_name": "Python 3",
   "language": "python",
   "name": "python3"
  },
  "language_info": {
   "codemirror_mode": {
    "name": "ipython",
    "version": 3
   },
   "file_extension": ".py",
   "mimetype": "text/x-python",
   "name": "python",
   "nbconvert_exporter": "python",
   "pygments_lexer": "ipython3",
   "version": "3.8.5"
  }
 },
 "nbformat": 4,
 "nbformat_minor": 4
}
